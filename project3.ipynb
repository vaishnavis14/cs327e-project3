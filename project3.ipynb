{
  "cells": [
    {
      "cell_type": "markdown",
      "metadata": {
        "id": "rzCu4iuGQlf1"
      },
      "source": [
        "### Starter code for Project 3.\n",
        "#### Run these cells before starting the assignment."
      ]
    },
    {
      "cell_type": "markdown",
      "metadata": {
        "id": "wb27mGN-Qlf8"
      },
      "source": [
        "#### 1. create BQ dataset:"
      ]
    },
    {
      "cell_type": "code",
      "execution_count": null,
      "metadata": {
        "tags": [],
        "id": "DeQGspTUQlf9",
        "outputId": "8cb093fb-14e1-40b0-ea36-e9f7d210a0f4"
      },
      "outputs": [
        {
          "name": "stdout",
          "output_type": "stream",
          "text": [
            "env: dataset_id=school_enrollments\n"
          ]
        }
      ],
      "source": [
        "%env dataset_id=school_enrollments"
      ]
    },
    {
      "cell_type": "code",
      "execution_count": null,
      "metadata": {
        "tags": [],
        "id": "tI2eUrFfQlgA",
        "outputId": "f26b9bcd-fc0b-4d95-d56e-eb3c8dc2f790"
      },
      "outputs": [
        {
          "name": "stdout",
          "output_type": "stream",
          "text": [
            "BigQuery error in mk operation: Dataset 'databases-sp-vs-24:school_enrollments'\n",
            "already exists.\n"
          ]
        }
      ],
      "source": [
        "!bq --location=US mk --dataset $dataset_id"
      ]
    },
    {
      "cell_type": "markdown",
      "metadata": {
        "id": "XTE4z6Y3QlgA"
      },
      "source": [
        "#### 2. create and populate BQ tables:"
      ]
    },
    {
      "cell_type": "code",
      "execution_count": null,
      "metadata": {
        "tags": [],
        "id": "i3ye5REhQlgB"
      },
      "outputs": [],
      "source": [
        "import os"
      ]
    },
    {
      "cell_type": "code",
      "execution_count": null,
      "metadata": {
        "tags": [],
        "id": "Ef0icDrYQlgB",
        "outputId": "f6b4dd84-66fb-4f87-e9c5-11d030c2ce2d"
      },
      "outputs": [
        {
          "name": "stdout",
          "output_type": "stream",
          "text": [
            "bq --location=US load --autodetect --skip_leading_rows=1 --source_format=CSV school_enrollments.ak gs://cs327e-open-access-2/school-enrollments/zf406jp4427_ak.csv\n",
            "\n"
          ]
        },
        {
          "name": "stderr",
          "output_type": "stream",
          "text": [
            "Waiting on bqjob_r73f4fa30c540608f_0000018e6734e10f_1 ... (2s) Current status: DONE   \n"
          ]
        },
        {
          "name": "stdout",
          "output_type": "stream",
          "text": [
            "bq --location=US load --autodetect --skip_leading_rows=1 --source_format=CSV school_enrollments.ar gs://cs327e-open-access-2/school-enrollments/zf406jp4427_ar.csv\n",
            "\n"
          ]
        },
        {
          "name": "stderr",
          "output_type": "stream",
          "text": [
            "Waiting on bqjob_r397f901fdb146eda_0000018e6734f3c5_1 ... (4s) Current status: DONE   \n"
          ]
        },
        {
          "name": "stdout",
          "output_type": "stream",
          "text": [
            "bq --location=US load --autodetect --skip_leading_rows=1 --source_format=CSV school_enrollments.ca gs://cs327e-open-access-2/school-enrollments/zf406jp4427_ca.csv\n",
            "\n"
          ]
        },
        {
          "name": "stderr",
          "output_type": "stream",
          "text": [
            "Waiting on bqjob_r705291ee5e839cb_0000018e67350ee3_1 ... (14s) Current status: DONE   \n"
          ]
        },
        {
          "name": "stdout",
          "output_type": "stream",
          "text": [
            "skipping co\n",
            "bq --location=US load --autodetect --skip_leading_rows=1 --source_format=CSV school_enrollments.ct gs://cs327e-open-access-2/school-enrollments/zf406jp4427_ct.csv\n",
            "\n"
          ]
        },
        {
          "name": "stderr",
          "output_type": "stream",
          "text": [
            "Waiting on bqjob_r277c6dbf8288c94f_0000018e673552b8_1 ... (3s) Current status: DONE   \n"
          ]
        },
        {
          "name": "stdout",
          "output_type": "stream",
          "text": [
            "skipping district\n",
            "skipping fl\n",
            "skipping ga\n",
            "bq --location=US load --autodetect --skip_leading_rows=1 --source_format=CSV school_enrollments.hi gs://cs327e-open-access-2/school-enrollments/zf406jp4427_hi.csv\n",
            "\n"
          ]
        },
        {
          "name": "stderr",
          "output_type": "stream",
          "text": [
            "Waiting on bqjob_r76f15c871eaa71d8_0000018e67356984_1 ... (2s) Current status: DONE   \n"
          ]
        },
        {
          "name": "stdout",
          "output_type": "stream",
          "text": [
            "skipping id\n",
            "bq --location=US load --autodetect --skip_leading_rows=1 --source_format=CSV school_enrollments.la gs://cs327e-open-access-2/school-enrollments/zf406jp4427_la.csv\n",
            "\n"
          ]
        },
        {
          "name": "stderr",
          "output_type": "stream",
          "text": [
            "Waiting on bqjob_r59eb124bfb8554b5_0000018e67357cbd_1 ... (4s) Current status: DONE   \n"
          ]
        },
        {
          "name": "stdout",
          "output_type": "stream",
          "text": [
            "skipping ma\n",
            "bq --location=US load --autodetect --skip_leading_rows=1 --source_format=CSV school_enrollments.md gs://cs327e-open-access-2/school-enrollments/zf406jp4427_md.csv\n",
            "\n"
          ]
        },
        {
          "name": "stderr",
          "output_type": "stream",
          "text": [
            "Waiting on bqjob_rec13efebf50f4d6_0000018e673597a8_1 ... (2s) Current status: DONE   \n"
          ]
        },
        {
          "name": "stdout",
          "output_type": "stream",
          "text": [
            "bq --location=US load --autodetect --skip_leading_rows=1 --source_format=CSV school_enrollments.mn gs://cs327e-open-access-2/school-enrollments/zf406jp4427_mn.csv\n",
            "\n"
          ]
        },
        {
          "name": "stderr",
          "output_type": "stream",
          "text": [
            "Waiting on bqjob_r530ddf930e23075f_0000018e6735aad2_1 ... (5s) Current status: DONE   \n"
          ]
        },
        {
          "name": "stdout",
          "output_type": "stream",
          "text": [
            "skipping mo\n",
            "bq --location=US load --autodetect --skip_leading_rows=1 --source_format=CSV school_enrollments.ms gs://cs327e-open-access-2/school-enrollments/zf406jp4427_ms.csv\n",
            "\n"
          ]
        },
        {
          "name": "stderr",
          "output_type": "stream",
          "text": [
            "Waiting on bqjob_r7fcd4a6a04c15a0b_0000018e6735c9d8_1 ... (2s) Current status: DONE   \n"
          ]
        },
        {
          "name": "stdout",
          "output_type": "stream",
          "text": [
            "skipping ne\n",
            "bq --location=US load --autodetect --skip_leading_rows=1 --source_format=CSV school_enrollments.nh gs://cs327e-open-access-2/school-enrollments/zf406jp4427_nh.csv\n",
            "\n"
          ]
        },
        {
          "name": "stderr",
          "output_type": "stream",
          "text": [
            "Waiting on bqjob_r772377d5dde090a3_0000018e6735dc3e_1 ... (2s) Current status: DONE   \n"
          ]
        },
        {
          "name": "stdout",
          "output_type": "stream",
          "text": [
            "bq --location=US load --autodetect --skip_leading_rows=1 --source_format=CSV school_enrollments.nv gs://cs327e-open-access-2/school-enrollments/zf406jp4427_nv.csv\n",
            "\n"
          ]
        },
        {
          "name": "stderr",
          "output_type": "stream",
          "text": [
            "Waiting on bqjob_r35b98e594b75d366_0000018e6735eedb_1 ... (2s) Current status: DONE   \n"
          ]
        },
        {
          "name": "stdout",
          "output_type": "stream",
          "text": [
            "skipping ny\n",
            "bq --location=US load --autodetect --skip_leading_rows=1 --source_format=CSV school_enrollments.ok gs://cs327e-open-access-2/school-enrollments/zf406jp4427_ok.csv\n",
            "\n"
          ]
        },
        {
          "name": "stderr",
          "output_type": "stream",
          "text": [
            "Waiting on bqjob_r2d66f2052914b372_0000018e67360190_1 ... (4s) Current status: DONE   \n"
          ]
        },
        {
          "name": "stdout",
          "output_type": "stream",
          "text": [
            "skipping or\n",
            "bq --location=US load --autodetect --skip_leading_rows=1 --source_format=CSV school_enrollments.pa gs://cs327e-open-access-2/school-enrollments/zf406jp4427_pa.csv\n",
            "\n"
          ]
        },
        {
          "name": "stderr",
          "output_type": "stream",
          "text": [
            "Waiting on bqjob_r15bb71688a7be1f4_0000018e67361c9b_1 ... (4s) Current status: DONE   \n"
          ]
        },
        {
          "name": "stdout",
          "output_type": "stream",
          "text": [
            "bq --location=US load --autodetect --skip_leading_rows=1 --source_format=CSV school_enrollments.sc gs://cs327e-open-access-2/school-enrollments/zf406jp4427_sc.csv\n",
            "\n"
          ]
        },
        {
          "name": "stderr",
          "output_type": "stream",
          "text": [
            "Waiting on bqjob_r3b4c812b86a61c11_0000018e6736379c_1 ... (2s) Current status: DONE   \n"
          ]
        },
        {
          "name": "stdout",
          "output_type": "stream",
          "text": [
            "skipping school\n",
            "skipping sd\n",
            "bq --location=US load --autodetect --skip_leading_rows=1 --source_format=CSV school_enrollments.tx gs://cs327e-open-access-2/school-enrollments/zf406jp4427_tx.csv\n",
            "\n"
          ]
        },
        {
          "name": "stderr",
          "output_type": "stream",
          "text": [
            "Waiting on bqjob_r7ef96d90a92833c3_0000018e67364a4a_1 ... (4s) Current status: DONE   \n"
          ]
        },
        {
          "name": "stdout",
          "output_type": "stream",
          "text": [
            "bq --location=US load --autodetect --skip_leading_rows=1 --source_format=CSV school_enrollments.wa gs://cs327e-open-access-2/school-enrollments/zf406jp4427_wa.csv\n",
            "\n"
          ]
        },
        {
          "name": "stderr",
          "output_type": "stream",
          "text": [
            "Waiting on bqjob_r6dad6d85d705157d_0000018e6736662c_1 ... (4s) Current status: DONE   \n"
          ]
        },
        {
          "name": "stdout",
          "output_type": "stream",
          "text": [
            "skipping wi\n",
            "bq --location=US load --autodetect --skip_leading_rows=1 --source_format=CSV school_enrollments.wy gs://cs327e-open-access-2/school-enrollments/zf406jp4427_wy.csv\n",
            "\n"
          ]
        },
        {
          "name": "stderr",
          "output_type": "stream",
          "text": [
            "Waiting on bqjob_r50b38117b986c09c_0000018e67368172_1 ... (2s) Current status: DONE   \n"
          ]
        }
      ],
      "source": [
        "gsutil_cmd = \"gsutil ls gs://cs327e-open-access-2/school-enrollments/*\"\n",
        "file_listings = os.popen(gsutil_cmd)\n",
        "dataset=\"school_enrollments\"\n",
        "\n",
        "for file in file_listings:\n",
        "\n",
        "    start_index = file.rindex(\"_\") + 1\n",
        "    end_index = file.rindex(\".\")\n",
        "    table = file[start_index:end_index]\n",
        "\n",
        "    if table in (\"co\", \"district\", \"fl\", \"ga\", \"id\", \"ma\", \"mo\", \"ne\", \"ny\", \"or\", \"school\", \"sd\", \"wi\"):\n",
        "        print(\"skipping \" + table)\n",
        "        continue\n",
        "\n",
        "    bq_cmd = \"bq --location=US load --autodetect --skip_leading_rows=1 \"\\\n",
        "             \"--source_format=CSV \" + dataset + \".\" + table + ' ' + file\n",
        "    print(bq_cmd)\n",
        "\n",
        "    os.system(bq_cmd)"
      ]
    },
    {
      "cell_type": "markdown",
      "metadata": {
        "id": "ZAKLAgxpQlgC"
      },
      "source": [
        "#### 3. Find school enrollments by school name, grade level, and year for Texas"
      ]
    },
    {
      "cell_type": "code",
      "execution_count": null,
      "metadata": {
        "tags": [],
        "id": "JHeocqvGQlgD",
        "outputId": "f06491a3-b1b7-4956-e8cc-b134d905623c"
      },
      "outputs": [
        {
          "name": "stdout",
          "output_type": "stream",
          "text": [
            "[{\"name\":\"state\",\"type\":\"STRING\",\"mode\":\"NULLABLE\"},{\"name\":\"county\",\"type\":\"STRING\",\"mode\":\"NULLABLE\"},{\"name\":\"county_state_id\",\"type\":\"STRING\",\"mode\":\"NULLABLE\"},{\"name\":\"admin_level\",\"type\":\"STRING\",\"mode\":\"NULLABLE\"},{\"name\":\"district_nces_id\",\"type\":\"INTEGER\",\"mode\":\"NULLABLE\"},{\"name\":\"district_state_id\",\"type\":\"INTEGER\",\"mode\":\"NULLABLE\"},{\"name\":\"district_state_type\",\"type\":\"STRING\",\"mode\":\"NULLABLE\"},{\"name\":\"district\",\"type\":\"STRING\",\"mode\":\"NULLABLE\"},{\"name\":\"ccd_district_type\",\"type\":\"STRING\",\"mode\":\"NULLABLE\"},{\"name\":\"ccd_charter\",\"type\":\"STRING\",\"mode\":\"NULLABLE\"},{\"name\":\"ccd_district_lvl\",\"type\":\"STRING\",\"mode\":\"NULLABLE\"},{\"name\":\"ccd_district_low_grade\",\"type\":\"STRING\",\"mode\":\"NULLABLE\"},{\"name\":\"ccd_district_high_grade\",\"type\":\"STRING\",\"mode\":\"NULLABLE\"},{\"name\":\"school_nces_id\",\"type\":\"INTEGER\",\"mode\":\"NULLABLE\"},{\"name\":\"school_state_id\",\"type\":\"FLOAT\",\"mode\":\"NULLABLE\"},{\"name\":\"school\",\"type\":\"STRING\",\"mode\":\"NULLABLE\"},{\"name\":\"school_state_type\",\"type\":\"STRING\",\"mode\":\"NULLABLE\"},{\"name\":\"ccd_school_type\",\"type\":\"STRING\",\"mode\":\"NULLABLE\"},{\"name\":\"ccd_charter_school\",\"type\":\"BOOLEAN\",\"mode\":\"NULLABLE\"},{\"name\":\"ccd_school_lvl\",\"type\":\"STRING\",\"mode\":\"NULLABLE\"},{\"name\":\"ccd_school_low_grade\",\"type\":\"STRING\",\"mode\":\"NULLABLE\"},{\"name\":\"ccd_school_high_grade\",\"type\":\"STRING\",\"mode\":\"NULLABLE\"},{\"name\":\"year\",\"type\":\"INTEGER\",\"mode\":\"NULLABLE\"},{\"name\":\"term\",\"type\":\"STRING\",\"mode\":\"NULLABLE\"},{\"name\":\"grade\",\"type\":\"STRING\",\"mode\":\"NULLABLE\"},{\"name\":\"white\",\"type\":\"STRING\",\"mode\":\"NULLABLE\"},{\"name\":\"black\",\"type\":\"STRING\",\"mode\":\"NULLABLE\"},{\"name\":\"hispanic\",\"type\":\"STRING\",\"mode\":\"NULLABLE\"},{\"name\":\"native_american\",\"type\":\"STRING\",\"mode\":\"NULLABLE\"},{\"name\":\"native_american_alaskan_native\",\"type\":\"STRING\",\"mode\":\"NULLABLE\"},{\"name\":\"asian\",\"type\":\"STRING\",\"mode\":\"NULLABLE\"},{\"name\":\"native_hawaiian\",\"type\":\"STRING\",\"mode\":\"NULLABLE\"},{\"name\":\"asian_pacific_islander\",\"type\":\"STRING\",\"mode\":\"NULLABLE\"},{\"name\":\"native_hawaiian_pacific_islander\",\"type\":\"STRING\",\"mode\":\"NULLABLE\"},{\"name\":\"pacific_islander\",\"type\":\"STRING\",\"mode\":\"NULLABLE\"},{\"name\":\"multiracial\",\"type\":\"STRING\",\"mode\":\"NULLABLE\"},{\"name\":\"unknown_race\",\"type\":\"STRING\",\"mode\":\"NULLABLE\"},{\"name\":\"male\",\"type\":\"STRING\",\"mode\":\"NULLABLE\"},{\"name\":\"female\",\"type\":\"STRING\",\"mode\":\"NULLABLE\"},{\"name\":\"non_binary\",\"type\":\"STRING\",\"mode\":\"NULLABLE\"},{\"name\":\"unknown_gender\",\"type\":\"STRING\",\"mode\":\"NULLABLE\"},{\"name\":\"ell\",\"type\":\"STRING\",\"mode\":\"NULLABLE\"},{\"name\":\"ell_percent\",\"type\":\"STRING\",\"mode\":\"NULLABLE\"},{\"name\":\"homeless\",\"type\":\"STRING\",\"mode\":\"NULLABLE\"},{\"name\":\"homeless_percent\",\"type\":\"STRING\",\"mode\":\"NULLABLE\"},{\"name\":\"low_income\",\"type\":\"STRING\",\"mode\":\"NULLABLE\"},{\"name\":\"free_and_reduced\",\"type\":\"STRING\",\"mode\":\"NULLABLE\"},{\"name\":\"free_and_reduced_percent\",\"type\":\"STRING\",\"mode\":\"NULLABLE\"},{\"name\":\"disability\",\"type\":\"STRING\",\"mode\":\"NULLABLE\"},{\"name\":\"section_504\",\"type\":\"STRING\",\"mode\":\"NULLABLE\"},{\"name\":\"total\",\"type\":\"STRING\",\"mode\":\"NULLABLE\"}]\n"
          ]
        }
      ],
      "source": [
        "!bq show --schema=true $dataset_id.tx"
      ]
    },
    {
      "cell_type": "markdown",
      "metadata": {
        "id": "_nrYstIZQlgD"
      },
      "source": [
        "#### Note: STRING type for \"total\" column"
      ]
    },
    {
      "cell_type": "code",
      "execution_count": null,
      "metadata": {
        "tags": [],
        "colab": {
          "referenced_widgets": [
            "6c1e1b85e74e4514a2ab39f4c810b3cc",
            "225f9de1123942e1918ddadda9c5b41d"
          ]
        },
        "id": "mo2KoewGQlgE",
        "outputId": "9d15c8bc-89b0-4642-c20e-562e03905345"
      },
      "outputs": [
        {
          "data": {
            "application/vnd.jupyter.widget-view+json": {
              "model_id": "6c1e1b85e74e4514a2ab39f4c810b3cc",
              "version_major": 2,
              "version_minor": 0
            },
            "text/plain": [
              "Query is running:   0%|          |"
            ]
          },
          "metadata": {},
          "output_type": "display_data"
        },
        {
          "data": {
            "application/vnd.jupyter.widget-view+json": {
              "model_id": "225f9de1123942e1918ddadda9c5b41d",
              "version_major": 2,
              "version_minor": 0
            },
            "text/plain": [
              "Downloading:   0%|          |"
            ]
          },
          "metadata": {},
          "output_type": "display_data"
        },
        {
          "data": {
            "text/html": [
              "<div>\n",
              "<style scoped>\n",
              "    .dataframe tbody tr th:only-of-type {\n",
              "        vertical-align: middle;\n",
              "    }\n",
              "\n",
              "    .dataframe tbody tr th {\n",
              "        vertical-align: top;\n",
              "    }\n",
              "\n",
              "    .dataframe thead th {\n",
              "        text-align: right;\n",
              "    }\n",
              "</style>\n",
              "<table border=\"1\" class=\"dataframe\">\n",
              "  <thead>\n",
              "    <tr style=\"text-align: right;\">\n",
              "      <th></th>\n",
              "      <th>school</th>\n",
              "      <th>grade</th>\n",
              "      <th>year</th>\n",
              "      <th>total</th>\n",
              "    </tr>\n",
              "  </thead>\n",
              "  <tbody>\n",
              "    <tr>\n",
              "      <th>0</th>\n",
              "      <td>AKINS H S</td>\n",
              "      <td>grade_10</td>\n",
              "      <td>2020</td>\n",
              "      <td>2880</td>\n",
              "    </tr>\n",
              "    <tr>\n",
              "      <th>1</th>\n",
              "      <td>AKINS H S</td>\n",
              "      <td>grade_10</td>\n",
              "      <td>2021</td>\n",
              "      <td>2988</td>\n",
              "    </tr>\n",
              "    <tr>\n",
              "      <th>2</th>\n",
              "      <td>AKINS H S</td>\n",
              "      <td>grade_11</td>\n",
              "      <td>2020</td>\n",
              "      <td>2656</td>\n",
              "    </tr>\n",
              "    <tr>\n",
              "      <th>3</th>\n",
              "      <td>AKINS H S</td>\n",
              "      <td>grade_11</td>\n",
              "      <td>2021</td>\n",
              "      <td>2652</td>\n",
              "    </tr>\n",
              "    <tr>\n",
              "      <th>4</th>\n",
              "      <td>AKINS H S</td>\n",
              "      <td>grade_12</td>\n",
              "      <td>2020</td>\n",
              "      <td>2436</td>\n",
              "    </tr>\n",
              "    <tr>\n",
              "      <th>...</th>\n",
              "      <td>...</td>\n",
              "      <td>...</td>\n",
              "      <td>...</td>\n",
              "      <td>...</td>\n",
              "    </tr>\n",
              "    <tr>\n",
              "      <th>1734</th>\n",
              "      <td>ZILKER EL</td>\n",
              "      <td>grade_5</td>\n",
              "      <td>2021</td>\n",
              "      <td>276</td>\n",
              "    </tr>\n",
              "    <tr>\n",
              "      <th>1735</th>\n",
              "      <td>ZILKER EL</td>\n",
              "      <td>kindergarten</td>\n",
              "      <td>2020</td>\n",
              "      <td>308</td>\n",
              "    </tr>\n",
              "    <tr>\n",
              "      <th>1736</th>\n",
              "      <td>ZILKER EL</td>\n",
              "      <td>kindergarten</td>\n",
              "      <td>2021</td>\n",
              "      <td>252</td>\n",
              "    </tr>\n",
              "    <tr>\n",
              "      <th>1737</th>\n",
              "      <td>ZILKER EL</td>\n",
              "      <td>pre_kindergarten</td>\n",
              "      <td>2020</td>\n",
              "      <td>120</td>\n",
              "    </tr>\n",
              "    <tr>\n",
              "      <th>1738</th>\n",
              "      <td>ZILKER EL</td>\n",
              "      <td>pre_kindergarten</td>\n",
              "      <td>2021</td>\n",
              "      <td>52</td>\n",
              "    </tr>\n",
              "  </tbody>\n",
              "</table>\n",
              "<p>1739 rows × 4 columns</p>\n",
              "</div>"
            ],
            "text/plain": [
              "         school             grade  year  total\n",
              "0     AKINS H S          grade_10  2020   2880\n",
              "1     AKINS H S          grade_10  2021   2988\n",
              "2     AKINS H S          grade_11  2020   2656\n",
              "3     AKINS H S          grade_11  2021   2652\n",
              "4     AKINS H S          grade_12  2020   2436\n",
              "...         ...               ...   ...    ...\n",
              "1734  ZILKER EL           grade_5  2021    276\n",
              "1735  ZILKER EL      kindergarten  2020    308\n",
              "1736  ZILKER EL      kindergarten  2021    252\n",
              "1737  ZILKER EL  pre_kindergarten  2020    120\n",
              "1738  ZILKER EL  pre_kindergarten  2021     52\n",
              "\n",
              "[1739 rows x 4 columns]"
            ]
          },
          "execution_count": 7,
          "metadata": {},
          "output_type": "execute_result"
        }
      ],
      "source": [
        "%%bigquery\n",
        "select school, grade, year, sum(cast(replace(replace(total, \",\", \"\"), \"<\", \"\") as int64)) as total\n",
        "from school_enrollments.tx\n",
        "where total != \"\" and school != \"\" and district like '%AUSTIN%'\n",
        "group by school, grade, year\n",
        "order by school, grade, year"
      ]
    },
    {
      "cell_type": "markdown",
      "metadata": {
        "id": "6Xj3j36ZQlgE"
      },
      "source": [
        "##### Documentation on BQ's string functions: https://cloud.google.com/bigquery/docs/reference/standard-sql/string_functions"
      ]
    },
    {
      "cell_type": "code",
      "execution_count": null,
      "metadata": {
        "tags": [],
        "id": "BDnkmaNpQlgG",
        "outputId": "039b98c4-f35d-48cd-d6f4-0b6303edfb80"
      },
      "outputs": [
        {
          "name": "stdout",
          "output_type": "stream",
          "text": [
            "BigQuery error in mk operation: Dataset 'databases-sp-vs-24:views' already\n",
            "exists.\n"
          ]
        }
      ],
      "source": [
        "!bq --location=US mk --dataset \"views\""
      ]
    },
    {
      "cell_type": "code",
      "execution_count": null,
      "metadata": {
        "tags": [],
        "colab": {
          "referenced_widgets": [
            "70383c28587446e29eadadc0c55f0d88"
          ]
        },
        "id": "Ave0pUlzQlgG",
        "outputId": "53600dea-5b5a-4196-b72b-20ead25cba1c"
      },
      "outputs": [
        {
          "data": {
            "application/vnd.jupyter.widget-view+json": {
              "model_id": "70383c28587446e29eadadc0c55f0d88",
              "version_major": 2,
              "version_minor": 0
            },
            "text/plain": [
              "Query is running:   0%|          |"
            ]
          },
          "metadata": {},
          "output_type": "display_data"
        },
        {
          "data": {
            "text/html": [
              "<div>\n",
              "<style scoped>\n",
              "    .dataframe tbody tr th:only-of-type {\n",
              "        vertical-align: middle;\n",
              "    }\n",
              "\n",
              "    .dataframe tbody tr th {\n",
              "        vertical-align: top;\n",
              "    }\n",
              "\n",
              "    .dataframe thead th {\n",
              "        text-align: right;\n",
              "    }\n",
              "</style>\n",
              "<table border=\"1\" class=\"dataframe\">\n",
              "  <thead>\n",
              "    <tr style=\"text-align: right;\">\n",
              "      <th></th>\n",
              "    </tr>\n",
              "  </thead>\n",
              "  <tbody>\n",
              "  </tbody>\n",
              "</table>\n",
              "</div>"
            ],
            "text/plain": [
              "Empty DataFrame\n",
              "Columns: []\n",
              "Index: []"
            ]
          },
          "execution_count": 22,
          "metadata": {},
          "output_type": "execute_result"
        }
      ],
      "source": [
        "%%bigquery\n",
        "create view views.austin_enrollments_by_school_grade_year1 as\n",
        "select school, grade, year, sum(cast(replace(replace(total, \",\", \"\"), \"<\", \"\") as int64)) as total\n",
        "from school_enrollments.tx\n",
        "where total != \"\" and school != \"\" and district like '%AUSTIN%'\n",
        "group by school, grade, year\n",
        "order by school, grade, year"
      ]
    },
    {
      "cell_type": "code",
      "execution_count": null,
      "metadata": {
        "tags": [],
        "colab": {
          "referenced_widgets": [
            "2b800f74ec1a42fe9f6f25c6844ea232",
            "dbbf0b49f15b4e28a21f5406a59d2779"
          ]
        },
        "id": "m8y5_xSMQlgH",
        "outputId": "3f265a92-18a3-4841-e73d-0503c528e79d"
      },
      "outputs": [
        {
          "data": {
            "application/vnd.jupyter.widget-view+json": {
              "model_id": "2b800f74ec1a42fe9f6f25c6844ea232",
              "version_major": 2,
              "version_minor": 0
            },
            "text/plain": [
              "Query is running:   0%|          |"
            ]
          },
          "metadata": {},
          "output_type": "display_data"
        },
        {
          "data": {
            "application/vnd.jupyter.widget-view+json": {
              "model_id": "dbbf0b49f15b4e28a21f5406a59d2779",
              "version_major": 2,
              "version_minor": 0
            },
            "text/plain": [
              "Downloading:   0%|          |"
            ]
          },
          "metadata": {},
          "output_type": "display_data"
        },
        {
          "data": {
            "text/html": [
              "<div>\n",
              "<style scoped>\n",
              "    .dataframe tbody tr th:only-of-type {\n",
              "        vertical-align: middle;\n",
              "    }\n",
              "\n",
              "    .dataframe tbody tr th {\n",
              "        vertical-align: top;\n",
              "    }\n",
              "\n",
              "    .dataframe thead th {\n",
              "        text-align: right;\n",
              "    }\n",
              "</style>\n",
              "<table border=\"1\" class=\"dataframe\">\n",
              "  <thead>\n",
              "    <tr style=\"text-align: right;\">\n",
              "      <th></th>\n",
              "      <th>school</th>\n",
              "      <th>grade</th>\n",
              "      <th>year</th>\n",
              "      <th>total</th>\n",
              "    </tr>\n",
              "  </thead>\n",
              "  <tbody>\n",
              "    <tr>\n",
              "      <th>0</th>\n",
              "      <td>AKINS H S</td>\n",
              "      <td>grade_10</td>\n",
              "      <td>2020</td>\n",
              "      <td>2880</td>\n",
              "    </tr>\n",
              "    <tr>\n",
              "      <th>1</th>\n",
              "      <td>AKINS H S</td>\n",
              "      <td>grade_10</td>\n",
              "      <td>2021</td>\n",
              "      <td>2988</td>\n",
              "    </tr>\n",
              "    <tr>\n",
              "      <th>2</th>\n",
              "      <td>AKINS H S</td>\n",
              "      <td>grade_11</td>\n",
              "      <td>2020</td>\n",
              "      <td>2656</td>\n",
              "    </tr>\n",
              "    <tr>\n",
              "      <th>3</th>\n",
              "      <td>AKINS H S</td>\n",
              "      <td>grade_11</td>\n",
              "      <td>2021</td>\n",
              "      <td>2652</td>\n",
              "    </tr>\n",
              "    <tr>\n",
              "      <th>4</th>\n",
              "      <td>AKINS H S</td>\n",
              "      <td>grade_12</td>\n",
              "      <td>2020</td>\n",
              "      <td>2436</td>\n",
              "    </tr>\n",
              "    <tr>\n",
              "      <th>...</th>\n",
              "      <td>...</td>\n",
              "      <td>...</td>\n",
              "      <td>...</td>\n",
              "      <td>...</td>\n",
              "    </tr>\n",
              "    <tr>\n",
              "      <th>1734</th>\n",
              "      <td>ZILKER EL</td>\n",
              "      <td>grade_5</td>\n",
              "      <td>2021</td>\n",
              "      <td>276</td>\n",
              "    </tr>\n",
              "    <tr>\n",
              "      <th>1735</th>\n",
              "      <td>ZILKER EL</td>\n",
              "      <td>kindergarten</td>\n",
              "      <td>2020</td>\n",
              "      <td>308</td>\n",
              "    </tr>\n",
              "    <tr>\n",
              "      <th>1736</th>\n",
              "      <td>ZILKER EL</td>\n",
              "      <td>kindergarten</td>\n",
              "      <td>2021</td>\n",
              "      <td>252</td>\n",
              "    </tr>\n",
              "    <tr>\n",
              "      <th>1737</th>\n",
              "      <td>ZILKER EL</td>\n",
              "      <td>pre_kindergarten</td>\n",
              "      <td>2020</td>\n",
              "      <td>120</td>\n",
              "    </tr>\n",
              "    <tr>\n",
              "      <th>1738</th>\n",
              "      <td>ZILKER EL</td>\n",
              "      <td>pre_kindergarten</td>\n",
              "      <td>2021</td>\n",
              "      <td>52</td>\n",
              "    </tr>\n",
              "  </tbody>\n",
              "</table>\n",
              "<p>1739 rows × 4 columns</p>\n",
              "</div>"
            ],
            "text/plain": [
              "         school             grade  year  total\n",
              "0     AKINS H S          grade_10  2020   2880\n",
              "1     AKINS H S          grade_10  2021   2988\n",
              "2     AKINS H S          grade_11  2020   2656\n",
              "3     AKINS H S          grade_11  2021   2652\n",
              "4     AKINS H S          grade_12  2020   2436\n",
              "...         ...               ...   ...    ...\n",
              "1734  ZILKER EL           grade_5  2021    276\n",
              "1735  ZILKER EL      kindergarten  2020    308\n",
              "1736  ZILKER EL      kindergarten  2021    252\n",
              "1737  ZILKER EL  pre_kindergarten  2020    120\n",
              "1738  ZILKER EL  pre_kindergarten  2021     52\n",
              "\n",
              "[1739 rows x 4 columns]"
            ]
          },
          "execution_count": 10,
          "metadata": {},
          "output_type": "execute_result"
        }
      ],
      "source": [
        "%%bigquery\n",
        "select * from views.austin_enrollments_by_school_grade_year"
      ]
    },
    {
      "cell_type": "markdown",
      "metadata": {
        "id": "fTrpA1cEQlgH"
      },
      "source": [
        "#### 4. Open Data Studio and create a chart from this view:\n",
        "##### https://datastudio.google.com/"
      ]
    },
    {
      "cell_type": "markdown",
      "metadata": {
        "id": "0HoRKEV7QlgI"
      },
      "source": [
        "#### Project 3 homework marker. Start homework from here."
      ]
    },
    {
      "cell_type": "code",
      "execution_count": null,
      "metadata": {
        "tags": [],
        "colab": {
          "referenced_widgets": [
            "2437fa02088c4769bfbc590c59b8ee9e",
            "ed50b2cea3af46b8a1b1f895ef67ba51"
          ]
        },
        "id": "EKnUJrvYQlgI",
        "outputId": "37a4c970-2656-4dbc-8b4e-2f4ddf0d660b"
      },
      "outputs": [
        {
          "data": {
            "application/vnd.jupyter.widget-view+json": {
              "model_id": "2437fa02088c4769bfbc590c59b8ee9e",
              "version_major": 2,
              "version_minor": 0
            },
            "text/plain": [
              "Query is running:   0%|          |"
            ]
          },
          "metadata": {},
          "output_type": "display_data"
        },
        {
          "data": {
            "application/vnd.jupyter.widget-view+json": {
              "model_id": "ed50b2cea3af46b8a1b1f895ef67ba51",
              "version_major": 2,
              "version_minor": 0
            },
            "text/plain": [
              "Downloading:   0%|          |"
            ]
          },
          "metadata": {},
          "output_type": "display_data"
        },
        {
          "data": {
            "text/html": [
              "<div>\n",
              "<style scoped>\n",
              "    .dataframe tbody tr th:only-of-type {\n",
              "        vertical-align: middle;\n",
              "    }\n",
              "\n",
              "    .dataframe tbody tr th {\n",
              "        vertical-align: top;\n",
              "    }\n",
              "\n",
              "    .dataframe thead th {\n",
              "        text-align: right;\n",
              "    }\n",
              "</style>\n",
              "<table border=\"1\" class=\"dataframe\">\n",
              "  <thead>\n",
              "    <tr style=\"text-align: right;\">\n",
              "      <th></th>\n",
              "      <th>school</th>\n",
              "      <th>num_years_with_enrollment_gt_500</th>\n",
              "    </tr>\n",
              "  </thead>\n",
              "  <tbody>\n",
              "    <tr>\n",
              "      <th>0</th>\n",
              "      <td>AUSTIN ACHIEVE H S</td>\n",
              "      <td>2</td>\n",
              "    </tr>\n",
              "    <tr>\n",
              "      <th>1</th>\n",
              "      <td>AKINS H S</td>\n",
              "      <td>2</td>\n",
              "    </tr>\n",
              "    <tr>\n",
              "      <th>2</th>\n",
              "      <td>ANDERSON H S</td>\n",
              "      <td>2</td>\n",
              "    </tr>\n",
              "    <tr>\n",
              "      <th>3</th>\n",
              "      <td>AUSTIN H S</td>\n",
              "      <td>2</td>\n",
              "    </tr>\n",
              "    <tr>\n",
              "      <th>4</th>\n",
              "      <td>BOWIE H S</td>\n",
              "      <td>2</td>\n",
              "    </tr>\n",
              "    <tr>\n",
              "      <th>...</th>\n",
              "      <td>...</td>\n",
              "      <td>...</td>\n",
              "    </tr>\n",
              "    <tr>\n",
              "      <th>127</th>\n",
              "      <td>BROOKE EL</td>\n",
              "      <td>1</td>\n",
              "    </tr>\n",
              "    <tr>\n",
              "      <th>128</th>\n",
              "      <td>NORMAN EL</td>\n",
              "      <td>1</td>\n",
              "    </tr>\n",
              "    <tr>\n",
              "      <th>129</th>\n",
              "      <td>PEASE EL</td>\n",
              "      <td>1</td>\n",
              "    </tr>\n",
              "    <tr>\n",
              "      <th>130</th>\n",
              "      <td>SIMS EL</td>\n",
              "      <td>1</td>\n",
              "    </tr>\n",
              "    <tr>\n",
              "      <th>131</th>\n",
              "      <td>WEBB PRI CENTER</td>\n",
              "      <td>1</td>\n",
              "    </tr>\n",
              "  </tbody>\n",
              "</table>\n",
              "<p>132 rows × 2 columns</p>\n",
              "</div>"
            ],
            "text/plain": [
              "                 school  num_years_with_enrollment_gt_500\n",
              "0    AUSTIN ACHIEVE H S                                 2\n",
              "1             AKINS H S                                 2\n",
              "2          ANDERSON H S                                 2\n",
              "3            AUSTIN H S                                 2\n",
              "4             BOWIE H S                                 2\n",
              "..                  ...                               ...\n",
              "127           BROOKE EL                                 1\n",
              "128           NORMAN EL                                 1\n",
              "129            PEASE EL                                 1\n",
              "130             SIMS EL                                 1\n",
              "131     WEBB PRI CENTER                                 1\n",
              "\n",
              "[132 rows x 2 columns]"
            ]
          },
          "execution_count": 11,
          "metadata": {},
          "output_type": "execute_result"
        }
      ],
      "source": [
        "%%bigquery\n",
        "SELECT school, COUNT(*) AS num_years_with_enrollment_gt_500\n",
        "FROM (\n",
        "    SELECT school, year, SUM(CAST(REPLACE(REPLACE(total, \",\", \"\"), \"<\", \"\") AS INT64)) AS total_enrollment\n",
        "    FROM school_enrollments.tx\n",
        "    WHERE total != \"\" AND school != \"\" AND district LIKE '%AUSTIN%'\n",
        "    GROUP BY school, year\n",
        "    HAVING total_enrollment > 500\n",
        ")\n",
        "GROUP BY school\n",
        "ORDER BY num_years_with_enrollment_gt_500 DESC;"
      ]
    },
    {
      "cell_type": "markdown",
      "metadata": {
        "id": "d_ziC7iBQlgJ"
      },
      "source": [
        "This query counts the number of years for each school in Austin where the total enrollment is greater than 500."
      ]
    },
    {
      "cell_type": "code",
      "execution_count": null,
      "metadata": {
        "tags": [],
        "colab": {
          "referenced_widgets": [
            "2e5535b82d72498994f7323fe982cb00",
            "fed2738b8492442e80377bcb4934e06d"
          ]
        },
        "id": "rzXHghn9QlgJ",
        "outputId": "03b7bb6b-668f-4041-e96c-a2aa96f5a87c"
      },
      "outputs": [
        {
          "data": {
            "application/vnd.jupyter.widget-view+json": {
              "model_id": "2e5535b82d72498994f7323fe982cb00",
              "version_major": 2,
              "version_minor": 0
            },
            "text/plain": [
              "Query is running:   0%|          |"
            ]
          },
          "metadata": {},
          "output_type": "display_data"
        },
        {
          "data": {
            "application/vnd.jupyter.widget-view+json": {
              "model_id": "fed2738b8492442e80377bcb4934e06d",
              "version_major": 2,
              "version_minor": 0
            },
            "text/plain": [
              "Downloading:   0%|          |"
            ]
          },
          "metadata": {},
          "output_type": "display_data"
        },
        {
          "data": {
            "text/html": [
              "<div>\n",
              "<style scoped>\n",
              "    .dataframe tbody tr th:only-of-type {\n",
              "        vertical-align: middle;\n",
              "    }\n",
              "\n",
              "    .dataframe tbody tr th {\n",
              "        vertical-align: top;\n",
              "    }\n",
              "\n",
              "    .dataframe thead th {\n",
              "        text-align: right;\n",
              "    }\n",
              "</style>\n",
              "<table border=\"1\" class=\"dataframe\">\n",
              "  <thead>\n",
              "    <tr style=\"text-align: right;\">\n",
              "      <th></th>\n",
              "      <th>school</th>\n",
              "      <th>year</th>\n",
              "      <th>max_enrollment</th>\n",
              "    </tr>\n",
              "  </thead>\n",
              "  <tbody>\n",
              "    <tr>\n",
              "      <th>0</th>\n",
              "      <td>A+ SECONDARY SCHOOL</td>\n",
              "      <td>2020</td>\n",
              "      <td>125</td>\n",
              "    </tr>\n",
              "    <tr>\n",
              "      <th>1</th>\n",
              "      <td>ABERNATHY DAEP</td>\n",
              "      <td>2020</td>\n",
              "      <td>10</td>\n",
              "    </tr>\n",
              "    <tr>\n",
              "      <th>2</th>\n",
              "      <td>ABERNATHY H S</td>\n",
              "      <td>2020</td>\n",
              "      <td>69</td>\n",
              "    </tr>\n",
              "    <tr>\n",
              "      <th>3</th>\n",
              "      <td>ABILENE H S</td>\n",
              "      <td>2020</td>\n",
              "      <td>647</td>\n",
              "    </tr>\n",
              "    <tr>\n",
              "      <th>4</th>\n",
              "      <td>ACADEMY FOR TECHNOLOGY ENGINEERING</td>\n",
              "      <td>2020</td>\n",
              "      <td>95</td>\n",
              "    </tr>\n",
              "    <tr>\n",
              "      <th>...</th>\n",
              "      <td>...</td>\n",
              "      <td>...</td>\n",
              "      <td>...</td>\n",
              "    </tr>\n",
              "    <tr>\n",
              "      <th>15944</th>\n",
              "      <td>FARRIS EARLY CHILDHOOD CTR</td>\n",
              "      <td>2021</td>\n",
              "      <td>206</td>\n",
              "    </tr>\n",
              "    <tr>\n",
              "      <th>15945</th>\n",
              "      <td>NORTHWEST HEAD START</td>\n",
              "      <td>2021</td>\n",
              "      <td>49</td>\n",
              "    </tr>\n",
              "    <tr>\n",
              "      <th>15946</th>\n",
              "      <td>ROARK EARLY EDUCATION CENTER</td>\n",
              "      <td>2021</td>\n",
              "      <td>123</td>\n",
              "    </tr>\n",
              "    <tr>\n",
              "      <th>15947</th>\n",
              "      <td>PARKLAND PRE K CENTER</td>\n",
              "      <td>2021</td>\n",
              "      <td>127</td>\n",
              "    </tr>\n",
              "    <tr>\n",
              "      <th>15948</th>\n",
              "      <td>YSLETA PK CENTER</td>\n",
              "      <td>2021</td>\n",
              "      <td>249</td>\n",
              "    </tr>\n",
              "  </tbody>\n",
              "</table>\n",
              "<p>15949 rows × 3 columns</p>\n",
              "</div>"
            ],
            "text/plain": [
              "                                   school  year  max_enrollment\n",
              "0                     A+ SECONDARY SCHOOL  2020             125\n",
              "1                          ABERNATHY DAEP  2020              10\n",
              "2                           ABERNATHY H S  2020              69\n",
              "3                             ABILENE H S  2020             647\n",
              "4      ACADEMY FOR TECHNOLOGY ENGINEERING  2020              95\n",
              "...                                   ...   ...             ...\n",
              "15944          FARRIS EARLY CHILDHOOD CTR  2021             206\n",
              "15945                NORTHWEST HEAD START  2021              49\n",
              "15946        ROARK EARLY EDUCATION CENTER  2021             123\n",
              "15947               PARKLAND PRE K CENTER  2021             127\n",
              "15948                    YSLETA PK CENTER  2021             249\n",
              "\n",
              "[15949 rows x 3 columns]"
            ]
          },
          "execution_count": 12,
          "metadata": {},
          "output_type": "execute_result"
        }
      ],
      "source": [
        "%%bigquery\n",
        "SELECT school, year, MAX(CAST(REPLACE(REPLACE(total, \",\", \"\"), \"<\", \"\") AS INT64)) AS max_enrollment\n",
        "FROM school_enrollments.tx\n",
        "WHERE total != \"\" AND school != \"\"\n",
        "GROUP BY school, year\n",
        "ORDER BY year;\n"
      ]
    },
    {
      "cell_type": "markdown",
      "metadata": {
        "id": "r19mb8NZQlgK"
      },
      "source": [
        "This query finds the Max enrollment number of each school in the dataset"
      ]
    },
    {
      "cell_type": "code",
      "execution_count": null,
      "metadata": {
        "tags": [],
        "colab": {
          "referenced_widgets": [
            "7ebfaf9489d142fd994b5630e9c4d9dd",
            "ea3d5e8ccfd84eb6a407ef1abf408e7a"
          ]
        },
        "id": "hxL1SCUrQlgK",
        "outputId": "bd9b87c8-107f-42b1-98cd-89efdb27c64a"
      },
      "outputs": [
        {
          "data": {
            "application/vnd.jupyter.widget-view+json": {
              "model_id": "7ebfaf9489d142fd994b5630e9c4d9dd",
              "version_major": 2,
              "version_minor": 0
            },
            "text/plain": [
              "Query is running:   0%|          |"
            ]
          },
          "metadata": {},
          "output_type": "display_data"
        },
        {
          "data": {
            "application/vnd.jupyter.widget-view+json": {
              "model_id": "ea3d5e8ccfd84eb6a407ef1abf408e7a",
              "version_major": 2,
              "version_minor": 0
            },
            "text/plain": [
              "Downloading:   0%|          |"
            ]
          },
          "metadata": {},
          "output_type": "display_data"
        },
        {
          "data": {
            "text/html": [
              "<div>\n",
              "<style scoped>\n",
              "    .dataframe tbody tr th:only-of-type {\n",
              "        vertical-align: middle;\n",
              "    }\n",
              "\n",
              "    .dataframe tbody tr th {\n",
              "        vertical-align: top;\n",
              "    }\n",
              "\n",
              "    .dataframe thead th {\n",
              "        text-align: right;\n",
              "    }\n",
              "</style>\n",
              "<table border=\"1\" class=\"dataframe\">\n",
              "  <thead>\n",
              "    <tr style=\"text-align: right;\">\n",
              "      <th></th>\n",
              "      <th>state</th>\n",
              "      <th>county</th>\n",
              "      <th>district</th>\n",
              "      <th>total_sum</th>\n",
              "    </tr>\n",
              "  </thead>\n",
              "  <tbody>\n",
              "    <tr>\n",
              "      <th>0</th>\n",
              "      <td>CA</td>\n",
              "      <td>ALAMEDA</td>\n",
              "      <td>Mountain House Elementary</td>\n",
              "      <td>69.0</td>\n",
              "    </tr>\n",
              "    <tr>\n",
              "      <th>1</th>\n",
              "      <td>CA</td>\n",
              "      <td>ALAMEDA</td>\n",
              "      <td>California School for the Blind (State Special...</td>\n",
              "      <td>102.0</td>\n",
              "    </tr>\n",
              "    <tr>\n",
              "      <th>2</th>\n",
              "      <td>CA</td>\n",
              "      <td>ALAMEDA</td>\n",
              "      <td>California School for the Blind (State Special...</td>\n",
              "      <td>198.0</td>\n",
              "    </tr>\n",
              "    <tr>\n",
              "      <th>3</th>\n",
              "      <td>CA</td>\n",
              "      <td>LOS ANGELES</td>\n",
              "      <td>SBE - Los Angeles College Prep Academy</td>\n",
              "      <td>306.0</td>\n",
              "    </tr>\n",
              "    <tr>\n",
              "      <th>4</th>\n",
              "      <td>CA</td>\n",
              "      <td>ALAMEDA</td>\n",
              "      <td>SBE - Latitude 37.8 High</td>\n",
              "      <td>492.0</td>\n",
              "    </tr>\n",
              "    <tr>\n",
              "      <th>...</th>\n",
              "      <td>...</td>\n",
              "      <td>...</td>\n",
              "      <td>...</td>\n",
              "      <td>...</td>\n",
              "    </tr>\n",
              "    <tr>\n",
              "      <th>106</th>\n",
              "      <td>CA</td>\n",
              "      <td>LOS ANGELES</td>\n",
              "      <td>Antelope Valley Union High</td>\n",
              "      <td>134186.0</td>\n",
              "    </tr>\n",
              "    <tr>\n",
              "      <th>107</th>\n",
              "      <td>CA</td>\n",
              "      <td>ALAMEDA</td>\n",
              "      <td>Fremont Unified</td>\n",
              "      <td>179364.0</td>\n",
              "    </tr>\n",
              "    <tr>\n",
              "      <th>108</th>\n",
              "      <td>CA</td>\n",
              "      <td>ALAMEDA</td>\n",
              "      <td>Oakland Unified</td>\n",
              "      <td>205482.0</td>\n",
              "    </tr>\n",
              "    <tr>\n",
              "      <th>109</th>\n",
              "      <td>CA</td>\n",
              "      <td>LOS ANGELES</td>\n",
              "      <td>Long Beach Unified</td>\n",
              "      <td>342444.0</td>\n",
              "    </tr>\n",
              "    <tr>\n",
              "      <th>110</th>\n",
              "      <td>CA</td>\n",
              "      <td>LOS ANGELES</td>\n",
              "      <td>Los Angeles Unified</td>\n",
              "      <td>1882115.0</td>\n",
              "    </tr>\n",
              "  </tbody>\n",
              "</table>\n",
              "<p>111 rows × 4 columns</p>\n",
              "</div>"
            ],
            "text/plain": [
              "    state       county                                           district  \\\n",
              "0      CA      ALAMEDA                          Mountain House Elementary   \n",
              "1      CA      ALAMEDA  California School for the Blind (State Special...   \n",
              "2      CA      ALAMEDA  California School for the Blind (State Special...   \n",
              "3      CA  LOS ANGELES             SBE - Los Angeles College Prep Academy   \n",
              "4      CA      ALAMEDA                           SBE - Latitude 37.8 High   \n",
              "..    ...          ...                                                ...   \n",
              "106    CA  LOS ANGELES                         Antelope Valley Union High   \n",
              "107    CA      ALAMEDA                                    Fremont Unified   \n",
              "108    CA      ALAMEDA                                    Oakland Unified   \n",
              "109    CA  LOS ANGELES                                 Long Beach Unified   \n",
              "110    CA  LOS ANGELES                                Los Angeles Unified   \n",
              "\n",
              "     total_sum  \n",
              "0         69.0  \n",
              "1        102.0  \n",
              "2        198.0  \n",
              "3        306.0  \n",
              "4        492.0  \n",
              "..         ...  \n",
              "106   134186.0  \n",
              "107   179364.0  \n",
              "108   205482.0  \n",
              "109   342444.0  \n",
              "110  1882115.0  \n",
              "\n",
              "[111 rows x 4 columns]"
            ]
          },
          "execution_count": 13,
          "metadata": {},
          "output_type": "execute_result"
        }
      ],
      "source": [
        "%%bigquery\n",
        "SELECT state, county, district, SUM(total) as total_sum\n",
        "FROM (\n",
        "    SELECT state, county, district, total\n",
        "    FROM school_enrollments.ca\n",
        "    WHERE county = 'ALAMEDA'\n",
        "    UNION DISTINCT\n",
        "    SELECT state, county, district, total\n",
        "    FROM school_enrollments.ca\n",
        "    WHERE county = 'LOS ANGELES'\n",
        ") combined_results\n",
        "GROUP BY state, county, district\n",
        "ORDER BY total_sum;\n"
      ]
    },
    {
      "cell_type": "markdown",
      "metadata": {
        "id": "xPw0LLpCQlgK"
      },
      "source": [
        "The query finds total enrollments in Alameda county and los angeles county and joins them through a union from the california data set."
      ]
    },
    {
      "cell_type": "code",
      "execution_count": null,
      "metadata": {
        "tags": [],
        "colab": {
          "referenced_widgets": [
            "fd03ae578d6c4c1a9c2fa6964c17868a",
            "d04b8482c4df4fb9b9b25880be648df7"
          ]
        },
        "id": "S2rOnjguQlgL",
        "outputId": "93831bfb-3adf-4946-92a6-c51b8271ee71"
      },
      "outputs": [
        {
          "data": {
            "application/vnd.jupyter.widget-view+json": {
              "model_id": "fd03ae578d6c4c1a9c2fa6964c17868a",
              "version_major": 2,
              "version_minor": 0
            },
            "text/plain": [
              "Query is running:   0%|          |"
            ]
          },
          "metadata": {},
          "output_type": "display_data"
        },
        {
          "data": {
            "application/vnd.jupyter.widget-view+json": {
              "model_id": "d04b8482c4df4fb9b9b25880be648df7",
              "version_major": 2,
              "version_minor": 0
            },
            "text/plain": [
              "Downloading:   0%|          |"
            ]
          },
          "metadata": {},
          "output_type": "display_data"
        },
        {
          "data": {
            "text/html": [
              "<div>\n",
              "<style scoped>\n",
              "    .dataframe tbody tr th:only-of-type {\n",
              "        vertical-align: middle;\n",
              "    }\n",
              "\n",
              "    .dataframe tbody tr th {\n",
              "        vertical-align: top;\n",
              "    }\n",
              "\n",
              "    .dataframe thead th {\n",
              "        text-align: right;\n",
              "    }\n",
              "</style>\n",
              "<table border=\"1\" class=\"dataframe\">\n",
              "  <thead>\n",
              "    <tr style=\"text-align: right;\">\n",
              "      <th></th>\n",
              "      <th>county</th>\n",
              "      <th>county_count</th>\n",
              "    </tr>\n",
              "  </thead>\n",
              "  <tbody>\n",
              "    <tr>\n",
              "      <th>0</th>\n",
              "      <td>KENEDY COUNTY</td>\n",
              "      <td>72</td>\n",
              "    </tr>\n",
              "    <tr>\n",
              "      <th>1</th>\n",
              "      <td>BORDEN COUNTY</td>\n",
              "      <td>116</td>\n",
              "    </tr>\n",
              "    <tr>\n",
              "      <th>2</th>\n",
              "      <td>FOARD COUNTY</td>\n",
              "      <td>120</td>\n",
              "    </tr>\n",
              "    <tr>\n",
              "      <th>3</th>\n",
              "      <td>KING COUNTY</td>\n",
              "      <td>120</td>\n",
              "    </tr>\n",
              "    <tr>\n",
              "      <th>4</th>\n",
              "      <td>MCMULLEN COUNTY</td>\n",
              "      <td>120</td>\n",
              "    </tr>\n",
              "    <tr>\n",
              "      <th>...</th>\n",
              "      <td>...</td>\n",
              "      <td>...</td>\n",
              "    </tr>\n",
              "    <tr>\n",
              "      <th>248</th>\n",
              "      <td>HIDALGO COUNTY</td>\n",
              "      <td>21020</td>\n",
              "    </tr>\n",
              "    <tr>\n",
              "      <th>249</th>\n",
              "      <td>TARRANT COUNTY</td>\n",
              "      <td>28064</td>\n",
              "    </tr>\n",
              "    <tr>\n",
              "      <th>250</th>\n",
              "      <td>BEXAR COUNTY</td>\n",
              "      <td>31088</td>\n",
              "    </tr>\n",
              "    <tr>\n",
              "      <th>251</th>\n",
              "      <td>DALLAS COUNTY</td>\n",
              "      <td>42024</td>\n",
              "    </tr>\n",
              "    <tr>\n",
              "      <th>252</th>\n",
              "      <td>HARRIS COUNTY</td>\n",
              "      <td>55936</td>\n",
              "    </tr>\n",
              "  </tbody>\n",
              "</table>\n",
              "<p>253 rows × 2 columns</p>\n",
              "</div>"
            ],
            "text/plain": [
              "              county  county_count\n",
              "0      KENEDY COUNTY            72\n",
              "1      BORDEN COUNTY           116\n",
              "2       FOARD COUNTY           120\n",
              "3        KING COUNTY           120\n",
              "4    MCMULLEN COUNTY           120\n",
              "..               ...           ...\n",
              "248   HIDALGO COUNTY         21020\n",
              "249   TARRANT COUNTY         28064\n",
              "250     BEXAR COUNTY         31088\n",
              "251    DALLAS COUNTY         42024\n",
              "252    HARRIS COUNTY         55936\n",
              "\n",
              "[253 rows x 2 columns]"
            ]
          },
          "execution_count": 14,
          "metadata": {},
          "output_type": "execute_result"
        }
      ],
      "source": [
        "%%bigquery\n",
        "SELECT county, COUNT(county) as county_count\n",
        "FROM school_enrollments.tx\n",
        "WHERE admin_level = 'school'\n",
        "GROUP BY county\n",
        "ORDER BY county_count;"
      ]
    },
    {
      "cell_type": "markdown",
      "metadata": {
        "id": "1MS1r7Y7QlgL"
      },
      "source": [
        "This gives the sum of each county where the admin level is school. It is grouped by county and ordered by the counts per county."
      ]
    },
    {
      "cell_type": "code",
      "execution_count": null,
      "metadata": {
        "tags": [],
        "colab": {
          "referenced_widgets": [
            "539cd998c869424fa8a35a992783c8d7",
            "e90db9d4ba8e462698cc8695f1936969"
          ]
        },
        "id": "2xPz-oLlQlgL",
        "outputId": "a23d82da-2400-4fe5-9d49-12a653556d41"
      },
      "outputs": [
        {
          "data": {
            "application/vnd.jupyter.widget-view+json": {
              "model_id": "539cd998c869424fa8a35a992783c8d7",
              "version_major": 2,
              "version_minor": 0
            },
            "text/plain": [
              "Query is running:   0%|          |"
            ]
          },
          "metadata": {},
          "output_type": "display_data"
        },
        {
          "data": {
            "application/vnd.jupyter.widget-view+json": {
              "model_id": "e90db9d4ba8e462698cc8695f1936969",
              "version_major": 2,
              "version_minor": 0
            },
            "text/plain": [
              "Downloading:   0%|          |"
            ]
          },
          "metadata": {},
          "output_type": "display_data"
        },
        {
          "data": {
            "text/html": [
              "<div>\n",
              "<style scoped>\n",
              "    .dataframe tbody tr th:only-of-type {\n",
              "        vertical-align: middle;\n",
              "    }\n",
              "\n",
              "    .dataframe tbody tr th {\n",
              "        vertical-align: top;\n",
              "    }\n",
              "\n",
              "    .dataframe thead th {\n",
              "        text-align: right;\n",
              "    }\n",
              "</style>\n",
              "<table border=\"1\" class=\"dataframe\">\n",
              "  <thead>\n",
              "    <tr style=\"text-align: right;\">\n",
              "      <th></th>\n",
              "      <th>county</th>\n",
              "      <th>county_count</th>\n",
              "    </tr>\n",
              "  </thead>\n",
              "  <tbody>\n",
              "    <tr>\n",
              "      <th>0</th>\n",
              "      <td>SAN MATEO</td>\n",
              "      <td>23408</td>\n",
              "    </tr>\n",
              "    <tr>\n",
              "      <th>1</th>\n",
              "      <td>TULARE</td>\n",
              "      <td>24024</td>\n",
              "    </tr>\n",
              "    <tr>\n",
              "      <th>2</th>\n",
              "      <td>STANISLAUS</td>\n",
              "      <td>24528</td>\n",
              "    </tr>\n",
              "    <tr>\n",
              "      <th>3</th>\n",
              "      <td>SONOMA</td>\n",
              "      <td>25144</td>\n",
              "    </tr>\n",
              "    <tr>\n",
              "      <th>4</th>\n",
              "      <td>VENTURA</td>\n",
              "      <td>26096</td>\n",
              "    </tr>\n",
              "    <tr>\n",
              "      <th>5</th>\n",
              "      <td>SAN JOAQUIN</td>\n",
              "      <td>28728</td>\n",
              "    </tr>\n",
              "    <tr>\n",
              "      <th>6</th>\n",
              "      <td>KERN</td>\n",
              "      <td>32872</td>\n",
              "    </tr>\n",
              "    <tr>\n",
              "      <th>7</th>\n",
              "      <td>CONTRA COSTA</td>\n",
              "      <td>33768</td>\n",
              "    </tr>\n",
              "    <tr>\n",
              "      <th>8</th>\n",
              "      <td>FRESNO</td>\n",
              "      <td>41160</td>\n",
              "    </tr>\n",
              "    <tr>\n",
              "      <th>9</th>\n",
              "      <td>SACRAMENTO</td>\n",
              "      <td>44968</td>\n",
              "    </tr>\n",
              "    <tr>\n",
              "      <th>10</th>\n",
              "      <td>ALAMEDA</td>\n",
              "      <td>45696</td>\n",
              "    </tr>\n",
              "    <tr>\n",
              "      <th>11</th>\n",
              "      <td>SANTA CLARA</td>\n",
              "      <td>51352</td>\n",
              "    </tr>\n",
              "    <tr>\n",
              "      <th>12</th>\n",
              "      <td>RIVERSIDE</td>\n",
              "      <td>59192</td>\n",
              "    </tr>\n",
              "    <tr>\n",
              "      <th>13</th>\n",
              "      <td>SAN BERNARDINO</td>\n",
              "      <td>67368</td>\n",
              "    </tr>\n",
              "    <tr>\n",
              "      <th>14</th>\n",
              "      <td>ORANGE</td>\n",
              "      <td>74368</td>\n",
              "    </tr>\n",
              "    <tr>\n",
              "      <th>15</th>\n",
              "      <td>SAN DIEGO</td>\n",
              "      <td>91840</td>\n",
              "    </tr>\n",
              "    <tr>\n",
              "      <th>16</th>\n",
              "      <td>LOS ANGELES</td>\n",
              "      <td>261744</td>\n",
              "    </tr>\n",
              "  </tbody>\n",
              "</table>\n",
              "</div>"
            ],
            "text/plain": [
              "            county  county_count\n",
              "0        SAN MATEO         23408\n",
              "1           TULARE         24024\n",
              "2       STANISLAUS         24528\n",
              "3           SONOMA         25144\n",
              "4          VENTURA         26096\n",
              "5      SAN JOAQUIN         28728\n",
              "6             KERN         32872\n",
              "7     CONTRA COSTA         33768\n",
              "8           FRESNO         41160\n",
              "9       SACRAMENTO         44968\n",
              "10         ALAMEDA         45696\n",
              "11     SANTA CLARA         51352\n",
              "12       RIVERSIDE         59192\n",
              "13  SAN BERNARDINO         67368\n",
              "14          ORANGE         74368\n",
              "15       SAN DIEGO         91840\n",
              "16     LOS ANGELES        261744"
            ]
          },
          "execution_count": 15,
          "metadata": {},
          "output_type": "execute_result"
        }
      ],
      "source": [
        "%%bigquery\n",
        "SELECT county, COUNT(county) as county_count\n",
        "FROM school_enrollments.ca\n",
        "GROUP BY county\n",
        "HAVING COUNT(county) > 20000\n",
        "ORDER BY county_count;"
      ]
    },
    {
      "cell_type": "markdown",
      "source": [
        "This counts the counties counties the california school enrollment dataset. it filters the counts that are greater than 20000 and orders by the county counts."
      ],
      "metadata": {
        "id": "CTTbWt8RRjWP"
      }
    },
    {
      "cell_type": "code",
      "execution_count": null,
      "metadata": {
        "tags": [],
        "colab": {
          "referenced_widgets": [
            "ad30e93991234e78b08395a4f6f43544",
            "9069a332442949efa30c87c0cea57399"
          ]
        },
        "id": "TyOj8BvHQlgM",
        "outputId": "21306140-ff82-44b7-e0a3-41422a56d699"
      },
      "outputs": [
        {
          "data": {
            "application/vnd.jupyter.widget-view+json": {
              "model_id": "ad30e93991234e78b08395a4f6f43544",
              "version_major": 2,
              "version_minor": 0
            },
            "text/plain": [
              "Query is running:   0%|          |"
            ]
          },
          "metadata": {},
          "output_type": "display_data"
        },
        {
          "data": {
            "application/vnd.jupyter.widget-view+json": {
              "model_id": "9069a332442949efa30c87c0cea57399",
              "version_major": 2,
              "version_minor": 0
            },
            "text/plain": [
              "Downloading:   0%|          |"
            ]
          },
          "metadata": {},
          "output_type": "display_data"
        },
        {
          "data": {
            "text/html": [
              "<div>\n",
              "<style scoped>\n",
              "    .dataframe tbody tr th:only-of-type {\n",
              "        vertical-align: middle;\n",
              "    }\n",
              "\n",
              "    .dataframe tbody tr th {\n",
              "        vertical-align: top;\n",
              "    }\n",
              "\n",
              "    .dataframe thead th {\n",
              "        text-align: right;\n",
              "    }\n",
              "</style>\n",
              "<table border=\"1\" class=\"dataframe\">\n",
              "  <thead>\n",
              "    <tr style=\"text-align: right;\">\n",
              "      <th></th>\n",
              "      <th>state</th>\n",
              "      <th>county</th>\n",
              "      <th>district</th>\n",
              "      <th>total_sum</th>\n",
              "    </tr>\n",
              "  </thead>\n",
              "  <tbody>\n",
              "    <tr>\n",
              "      <th>0</th>\n",
              "      <td>PA</td>\n",
              "      <td>Montgomery</td>\n",
              "      <td>Central Montco Technical High School</td>\n",
              "      <td>3508.0</td>\n",
              "    </tr>\n",
              "    <tr>\n",
              "      <th>1</th>\n",
              "      <td>PA</td>\n",
              "      <td>Montgomery</td>\n",
              "      <td>Jenkintown SD</td>\n",
              "      <td>3864.0</td>\n",
              "    </tr>\n",
              "    <tr>\n",
              "      <th>2</th>\n",
              "      <td>PA</td>\n",
              "      <td>Montgomery</td>\n",
              "      <td>North Montco Tech Career Center</td>\n",
              "      <td>4112.0</td>\n",
              "    </tr>\n",
              "    <tr>\n",
              "      <th>3</th>\n",
              "      <td>PA</td>\n",
              "      <td>Lycoming</td>\n",
              "      <td>Montgomery Area SD</td>\n",
              "      <td>5278.0</td>\n",
              "    </tr>\n",
              "    <tr>\n",
              "      <th>4</th>\n",
              "      <td>PA</td>\n",
              "      <td>Lycoming</td>\n",
              "      <td>Muncy SD</td>\n",
              "      <td>5500.0</td>\n",
              "    </tr>\n",
              "    <tr>\n",
              "      <th>5</th>\n",
              "      <td>PA</td>\n",
              "      <td>Lycoming</td>\n",
              "      <td>South Williamsport Area SD</td>\n",
              "      <td>6836.0</td>\n",
              "    </tr>\n",
              "    <tr>\n",
              "      <th>6</th>\n",
              "      <td>PA</td>\n",
              "      <td>Lycoming</td>\n",
              "      <td>Loyalsock Township SD</td>\n",
              "      <td>7799.0</td>\n",
              "    </tr>\n",
              "    <tr>\n",
              "      <th>7</th>\n",
              "      <td>PA</td>\n",
              "      <td>Montgomery</td>\n",
              "      <td>Pennsylvania Virtual CS</td>\n",
              "      <td>8488.0</td>\n",
              "    </tr>\n",
              "    <tr>\n",
              "      <th>8</th>\n",
              "      <td>PA</td>\n",
              "      <td>Lycoming</td>\n",
              "      <td>East Lycoming SD</td>\n",
              "      <td>9858.0</td>\n",
              "    </tr>\n",
              "    <tr>\n",
              "      <th>9</th>\n",
              "      <td>PA</td>\n",
              "      <td>Lycoming</td>\n",
              "      <td>Montoursville Area SD</td>\n",
              "      <td>12260.0</td>\n",
              "    </tr>\n",
              "  </tbody>\n",
              "</table>\n",
              "</div>"
            ],
            "text/plain": [
              "  state      county                              district  total_sum\n",
              "0    PA  Montgomery  Central Montco Technical High School     3508.0\n",
              "1    PA  Montgomery                         Jenkintown SD     3864.0\n",
              "2    PA  Montgomery       North Montco Tech Career Center     4112.0\n",
              "3    PA    Lycoming                    Montgomery Area SD     5278.0\n",
              "4    PA    Lycoming                              Muncy SD     5500.0\n",
              "5    PA    Lycoming            South Williamsport Area SD     6836.0\n",
              "6    PA    Lycoming                 Loyalsock Township SD     7799.0\n",
              "7    PA  Montgomery               Pennsylvania Virtual CS     8488.0\n",
              "8    PA    Lycoming                      East Lycoming SD     9858.0\n",
              "9    PA    Lycoming                 Montoursville Area SD    12260.0"
            ]
          },
          "execution_count": 16,
          "metadata": {},
          "output_type": "execute_result"
        }
      ],
      "source": [
        "%%bigquery\n",
        "SELECT state, county, district, SUM(total) as total_sum\n",
        "FROM (\n",
        "    SELECT state, county, district, total\n",
        "    FROM school_enrollments.pa\n",
        "    WHERE county = 'Lycoming'\n",
        "    UNION DISTINCT\n",
        "    SELECT state, county, district, total\n",
        "    FROM school_enrollments.pa\n",
        "    WHERE county = 'Montgomery'\n",
        ") combined_results\n",
        "GROUP BY state, county, district\n",
        "HAVING total_sum > 3000\n",
        "ORDER BY total_sum LIMIT 10;"
      ]
    },
    {
      "cell_type": "markdown",
      "source": [
        "The query finds total enrollments in Montgomery county and Lycoming county and joins them through a union from the Pennsylvania data set."
      ],
      "metadata": {
        "id": "8MWPJCUTRneG"
      }
    },
    {
      "cell_type": "code",
      "execution_count": null,
      "metadata": {
        "tags": [],
        "colab": {
          "referenced_widgets": [
            "08b095c4883b4fb9ac6ea777e8c284dd",
            "baa9d50d1f71431e807bba5463ef3d4d"
          ]
        },
        "id": "x5tt1cnrQlgM",
        "outputId": "3ec13daa-1fde-425f-c4f0-d5b1e1abc1f5"
      },
      "outputs": [
        {
          "data": {
            "application/vnd.jupyter.widget-view+json": {
              "model_id": "08b095c4883b4fb9ac6ea777e8c284dd",
              "version_major": 2,
              "version_minor": 0
            },
            "text/plain": [
              "Query is running:   0%|          |"
            ]
          },
          "metadata": {},
          "output_type": "display_data"
        },
        {
          "data": {
            "application/vnd.jupyter.widget-view+json": {
              "model_id": "baa9d50d1f71431e807bba5463ef3d4d",
              "version_major": 2,
              "version_minor": 0
            },
            "text/plain": [
              "Downloading:   0%|          |"
            ]
          },
          "metadata": {},
          "output_type": "display_data"
        },
        {
          "data": {
            "text/html": [
              "<div>\n",
              "<style scoped>\n",
              "    .dataframe tbody tr th:only-of-type {\n",
              "        vertical-align: middle;\n",
              "    }\n",
              "\n",
              "    .dataframe tbody tr th {\n",
              "        vertical-align: top;\n",
              "    }\n",
              "\n",
              "    .dataframe thead th {\n",
              "        text-align: right;\n",
              "    }\n",
              "</style>\n",
              "<table border=\"1\" class=\"dataframe\">\n",
              "  <thead>\n",
              "    <tr style=\"text-align: right;\">\n",
              "      <th></th>\n",
              "      <th>district</th>\n",
              "      <th>district_count</th>\n",
              "    </tr>\n",
              "  </thead>\n",
              "  <tbody>\n",
              "    <tr>\n",
              "      <th>0</th>\n",
              "      <td>HOPE ACADEMY OF NORTHWEST ARKANSAS</td>\n",
              "      <td>64</td>\n",
              "    </tr>\n",
              "    <tr>\n",
              "      <th>1</th>\n",
              "      <td>BARTON SCHOOL DISTRICT</td>\n",
              "      <td>64</td>\n",
              "    </tr>\n",
              "    <tr>\n",
              "      <th>2</th>\n",
              "      <td>HOPE ACADEMY OF NW ARKANSAS</td>\n",
              "      <td>64</td>\n",
              "    </tr>\n",
              "    <tr>\n",
              "      <th>3</th>\n",
              "      <td>RESPONSIVE ED SOLUTIONS PREMIER HIGH SCHOOL OF...</td>\n",
              "      <td>64</td>\n",
              "    </tr>\n",
              "    <tr>\n",
              "      <th>4</th>\n",
              "      <td>RESPONSIVE ED SOLUTIONS PREMIER HIGH SCH OF NO...</td>\n",
              "      <td>64</td>\n",
              "    </tr>\n",
              "    <tr>\n",
              "      <th>...</th>\n",
              "      <td>...</td>\n",
              "      <td>...</td>\n",
              "    </tr>\n",
              "    <tr>\n",
              "      <th>226</th>\n",
              "      <td>DOLLARWAY SCHOOL DISTRICT</td>\n",
              "      <td>1920</td>\n",
              "    </tr>\n",
              "    <tr>\n",
              "      <th>227</th>\n",
              "      <td>CLINTON SCHOOL DISTRICT</td>\n",
              "      <td>1920</td>\n",
              "    </tr>\n",
              "    <tr>\n",
              "      <th>228</th>\n",
              "      <td>PRAIRIE GROVE SCHOOL DISTRICT</td>\n",
              "      <td>1920</td>\n",
              "    </tr>\n",
              "    <tr>\n",
              "      <th>229</th>\n",
              "      <td>TRUMANN SCHOOL DISTRICT</td>\n",
              "      <td>1984</td>\n",
              "    </tr>\n",
              "    <tr>\n",
              "      <th>230</th>\n",
              "      <td>OUACHITA RIVER SCHOOL DISTRICT</td>\n",
              "      <td>1984</td>\n",
              "    </tr>\n",
              "  </tbody>\n",
              "</table>\n",
              "<p>231 rows × 2 columns</p>\n",
              "</div>"
            ],
            "text/plain": [
              "                                              district  district_count\n",
              "0                   HOPE ACADEMY OF NORTHWEST ARKANSAS              64\n",
              "1                               BARTON SCHOOL DISTRICT              64\n",
              "2                          HOPE ACADEMY OF NW ARKANSAS              64\n",
              "3    RESPONSIVE ED SOLUTIONS PREMIER HIGH SCHOOL OF...              64\n",
              "4    RESPONSIVE ED SOLUTIONS PREMIER HIGH SCH OF NO...              64\n",
              "..                                                 ...             ...\n",
              "226                          DOLLARWAY SCHOOL DISTRICT            1920\n",
              "227                            CLINTON SCHOOL DISTRICT            1920\n",
              "228                      PRAIRIE GROVE SCHOOL DISTRICT            1920\n",
              "229                            TRUMANN SCHOOL DISTRICT            1984\n",
              "230                     OUACHITA RIVER SCHOOL DISTRICT            1984\n",
              "\n",
              "[231 rows x 2 columns]"
            ]
          },
          "execution_count": 17,
          "metadata": {},
          "output_type": "execute_result"
        }
      ],
      "source": [
        "%%bigquery\n",
        "SELECT district, COUNT(district) as district_count\n",
        "FROM school_enrollments.ar\n",
        "GROUP BY district\n",
        "HAVING COUNT(county) <= 2000\n",
        "ORDER BY district_count;"
      ]
    },
    {
      "cell_type": "markdown",
      "source": [
        "This code gets the district counts for each district and filters the counts that are less than or equal to 2000. This is ordered by district counts for Arkansas."
      ],
      "metadata": {
        "id": "sOmvBNDfRrCo"
      }
    },
    {
      "cell_type": "code",
      "execution_count": null,
      "metadata": {
        "tags": [],
        "colab": {
          "referenced_widgets": [
            "05f722106b394cf6914d8759f8d15b96",
            "ed79b46a19b24d1b9e5af18a24b892ab"
          ]
        },
        "id": "yV_hZQ4zQlgM",
        "outputId": "d627f7b3-8dfd-4d26-8875-29c923af9c7e"
      },
      "outputs": [
        {
          "data": {
            "application/vnd.jupyter.widget-view+json": {
              "model_id": "05f722106b394cf6914d8759f8d15b96",
              "version_major": 2,
              "version_minor": 0
            },
            "text/plain": [
              "Query is running:   0%|          |"
            ]
          },
          "metadata": {},
          "output_type": "display_data"
        },
        {
          "data": {
            "application/vnd.jupyter.widget-view+json": {
              "model_id": "ed79b46a19b24d1b9e5af18a24b892ab",
              "version_major": 2,
              "version_minor": 0
            },
            "text/plain": [
              "Downloading:   0%|          |"
            ]
          },
          "metadata": {},
          "output_type": "display_data"
        },
        {
          "data": {
            "text/html": [
              "<div>\n",
              "<style scoped>\n",
              "    .dataframe tbody tr th:only-of-type {\n",
              "        vertical-align: middle;\n",
              "    }\n",
              "\n",
              "    .dataframe tbody tr th {\n",
              "        vertical-align: top;\n",
              "    }\n",
              "\n",
              "    .dataframe thead th {\n",
              "        text-align: right;\n",
              "    }\n",
              "</style>\n",
              "<table border=\"1\" class=\"dataframe\">\n",
              "  <thead>\n",
              "    <tr style=\"text-align: right;\">\n",
              "      <th></th>\n",
              "      <th>district</th>\n",
              "      <th>county_state_id</th>\n",
              "      <th>id_count</th>\n",
              "    </tr>\n",
              "  </thead>\n",
              "  <tbody>\n",
              "    <tr>\n",
              "      <th>0</th>\n",
              "      <td>SBE - OnePurpose</td>\n",
              "      <td>6075</td>\n",
              "      <td>56</td>\n",
              "    </tr>\n",
              "    <tr>\n",
              "      <th>1</th>\n",
              "      <td>Elkins Elementary</td>\n",
              "      <td>6103</td>\n",
              "      <td>56</td>\n",
              "    </tr>\n",
              "    <tr>\n",
              "      <th>2</th>\n",
              "      <td>SBC - High Tech High</td>\n",
              "      <td>37</td>\n",
              "      <td>56</td>\n",
              "    </tr>\n",
              "    <tr>\n",
              "      <th>3</th>\n",
              "      <td>SBE - John Henry High</td>\n",
              "      <td>6013</td>\n",
              "      <td>56</td>\n",
              "    </tr>\n",
              "    <tr>\n",
              "      <th>4</th>\n",
              "      <td>SBE - Olive Grove Charter</td>\n",
              "      <td>6083</td>\n",
              "      <td>56</td>\n",
              "    </tr>\n",
              "    <tr>\n",
              "      <th>...</th>\n",
              "      <td>...</td>\n",
              "      <td>...</td>\n",
              "      <td>...</td>\n",
              "    </tr>\n",
              "    <tr>\n",
              "      <th>2032</th>\n",
              "      <td>Fresno Unified</td>\n",
              "      <td>6019</td>\n",
              "      <td>12040</td>\n",
              "    </tr>\n",
              "    <tr>\n",
              "      <th>2033</th>\n",
              "      <td>Oakland Unified</td>\n",
              "      <td>6001</td>\n",
              "      <td>13216</td>\n",
              "    </tr>\n",
              "    <tr>\n",
              "      <th>2034</th>\n",
              "      <td>San Francisco Unified</td>\n",
              "      <td>6075</td>\n",
              "      <td>13664</td>\n",
              "    </tr>\n",
              "    <tr>\n",
              "      <th>2035</th>\n",
              "      <td>San Diego Unified</td>\n",
              "      <td>6073</td>\n",
              "      <td>24808</td>\n",
              "    </tr>\n",
              "    <tr>\n",
              "      <th>2036</th>\n",
              "      <td>Los Angeles Unified</td>\n",
              "      <td>6037</td>\n",
              "      <td>113120</td>\n",
              "    </tr>\n",
              "  </tbody>\n",
              "</table>\n",
              "<p>2037 rows × 3 columns</p>\n",
              "</div>"
            ],
            "text/plain": [
              "                       district  county_state_id  id_count\n",
              "0              SBE - OnePurpose             6075        56\n",
              "1             Elkins Elementary             6103        56\n",
              "2          SBC - High Tech High               37        56\n",
              "3         SBE - John Henry High             6013        56\n",
              "4     SBE - Olive Grove Charter             6083        56\n",
              "...                         ...              ...       ...\n",
              "2032             Fresno Unified             6019     12040\n",
              "2033            Oakland Unified             6001     13216\n",
              "2034      San Francisco Unified             6075     13664\n",
              "2035          San Diego Unified             6073     24808\n",
              "2036        Los Angeles Unified             6037    113120\n",
              "\n",
              "[2037 rows x 3 columns]"
            ]
          },
          "execution_count": 18,
          "metadata": {},
          "output_type": "execute_result"
        }
      ],
      "source": [
        "%%bigquery\n",
        "SELECT district, county_state_id, COUNT(*) as id_count\n",
        "FROM school_enrollments.ca\n",
        "GROUP BY district, county_state_id\n",
        "ORDER BY id_count;"
      ]
    },
    {
      "cell_type": "markdown",
      "source": [
        "The counts for each county id are listed. It is ordered by the counts."
      ],
      "metadata": {
        "id": "uMGyJS0JRvNd"
      }
    },
    {
      "cell_type": "code",
      "execution_count": null,
      "metadata": {
        "tags": [],
        "colab": {
          "referenced_widgets": [
            "dbfce06a1f934fedae9560541139dc79"
          ]
        },
        "id": "nEeuwvkWQlgN",
        "outputId": "2e5a83a7-99bc-4188-efbd-303fcc219344"
      },
      "outputs": [
        {
          "data": {
            "application/vnd.jupyter.widget-view+json": {
              "model_id": "dbfce06a1f934fedae9560541139dc79",
              "version_major": 2,
              "version_minor": 0
            },
            "text/plain": [
              "Query is running:   0%|          |"
            ]
          },
          "metadata": {},
          "output_type": "display_data"
        },
        {
          "data": {
            "text/html": [
              "<div>\n",
              "<style scoped>\n",
              "    .dataframe tbody tr th:only-of-type {\n",
              "        vertical-align: middle;\n",
              "    }\n",
              "\n",
              "    .dataframe tbody tr th {\n",
              "        vertical-align: top;\n",
              "    }\n",
              "\n",
              "    .dataframe thead th {\n",
              "        text-align: right;\n",
              "    }\n",
              "</style>\n",
              "<table border=\"1\" class=\"dataframe\">\n",
              "  <thead>\n",
              "    <tr style=\"text-align: right;\">\n",
              "      <th></th>\n",
              "    </tr>\n",
              "  </thead>\n",
              "  <tbody>\n",
              "  </tbody>\n",
              "</table>\n",
              "</div>"
            ],
            "text/plain": [
              "Empty DataFrame\n",
              "Columns: []\n",
              "Index: []"
            ]
          },
          "execution_count": 23,
          "metadata": {},
          "output_type": "execute_result"
        }
      ],
      "source": [
        "%%bigquery\n",
        "CREATE VIEW school_enrollments.viewTX AS\n",
        "SELECT school, year, MAX(CAST(REPLACE(REPLACE(total, \",\", \"\"), \"<\", \"\") AS INT64)) AS max_enrollment\n",
        "FROM school_enrollments.tx\n",
        "WHERE total != \"\" AND school != \"\"\n",
        "GROUP BY school, year\n",
        "ORDER BY year;\n"
      ]
    },
    {
      "cell_type": "markdown",
      "source": [
        "The maximum enrollments for each school in texas are listed. It is ordered by year. The view is created."
      ],
      "metadata": {
        "id": "s2pR-CxlSK92"
      }
    },
    {
      "cell_type": "code",
      "execution_count": null,
      "metadata": {
        "tags": [],
        "colab": {
          "referenced_widgets": [
            "eec387d9c6524678b3b84c2401201655"
          ]
        },
        "id": "Z8ZEUNztQlgN",
        "outputId": "7dc803b6-42a4-470d-a02c-6282b7b07c0d"
      },
      "outputs": [
        {
          "data": {
            "application/vnd.jupyter.widget-view+json": {
              "model_id": "eec387d9c6524678b3b84c2401201655",
              "version_major": 2,
              "version_minor": 0
            },
            "text/plain": [
              "Query is running:   0%|          |"
            ]
          },
          "metadata": {},
          "output_type": "display_data"
        },
        {
          "data": {
            "text/html": [
              "<div>\n",
              "<style scoped>\n",
              "    .dataframe tbody tr th:only-of-type {\n",
              "        vertical-align: middle;\n",
              "    }\n",
              "\n",
              "    .dataframe tbody tr th {\n",
              "        vertical-align: top;\n",
              "    }\n",
              "\n",
              "    .dataframe thead th {\n",
              "        text-align: right;\n",
              "    }\n",
              "</style>\n",
              "<table border=\"1\" class=\"dataframe\">\n",
              "  <thead>\n",
              "    <tr style=\"text-align: right;\">\n",
              "      <th></th>\n",
              "    </tr>\n",
              "  </thead>\n",
              "  <tbody>\n",
              "  </tbody>\n",
              "</table>\n",
              "</div>"
            ],
            "text/plain": [
              "Empty DataFrame\n",
              "Columns: []\n",
              "Index: []"
            ]
          },
          "execution_count": 24,
          "metadata": {},
          "output_type": "execute_result"
        }
      ],
      "source": [
        "%%bigquery\n",
        "CREATE VIEW school_enrollments.viewCA AS\n",
        "SELECT state, county, district, SUM(total) as total_sum\n",
        "FROM (\n",
        "    SELECT state, county, district, total\n",
        "    FROM school_enrollments.ca\n",
        "    WHERE county = 'ALAMEDA'\n",
        "    UNION DISTINCT\n",
        "    SELECT state, county, district, total\n",
        "    FROM school_enrollments.ca\n",
        "    WHERE county = 'LOS ANGELES'\n",
        ") combined_results\n",
        "GROUP BY state, county, district\n",
        "ORDER BY total_sum;"
      ]
    },
    {
      "cell_type": "markdown",
      "source": [
        "The view is created for the total enrollments in Alameda county and los angeles county."
      ],
      "metadata": {
        "id": "WLyNCHp3Sb7F"
      }
    }
  ],
  "metadata": {
    "environment": {
      "kernel": "conda-root-py",
      "name": "workbench-notebooks.m115",
      "type": "gcloud",
      "uri": "gcr.io/deeplearning-platform-release/workbench-notebooks:m115"
    },
    "kernelspec": {
      "display_name": "Python 3 (ipykernel) (Local)",
      "language": "python",
      "name": "conda-root-py"
    },
    "language_info": {
      "codemirror_mode": {
        "name": "ipython",
        "version": 3
      },
      "file_extension": ".py",
      "mimetype": "text/x-python",
      "name": "python",
      "nbconvert_exporter": "python",
      "pygments_lexer": "ipython3",
      "version": "3.10.13"
    },
    "colab": {
      "provenance": []
    }
  },
  "nbformat": 4,
  "nbformat_minor": 0
}